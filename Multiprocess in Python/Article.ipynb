{
 "cells": [
  {
   "cell_type": "code",
   "execution_count": 1,
   "metadata": {},
   "outputs": [
    {
     "name": "stdout",
     "output_type": "stream",
     "text": [
      "Number of cpu :  12\n"
     ]
    }
   ],
   "source": [
    "# Author: VISWA R\n",
    "# Import and Get Cores\n",
    "import multiprocessing as mp\n",
    "import numpy as np\n",
    "import tqdm\n",
    "from itertools import repeat\n",
    "from multiprocessing import Process, Manager\n",
    "from multiprocessing import Pool\n",
    "import pandas as pd\n",
    "\n",
    "\n",
    "num_processes = mp.cpu_count()\n",
    "\n",
    "print(\"Number of cpu : \", num_processes)"
   ]
  },
  {
   "cell_type": "code",
   "execution_count": 2,
   "metadata": {},
   "outputs": [],
   "source": [
    "# Read Files\n",
    "employee_df = pd.read_csv('employee.csv',low_memory=False)\n",
    "data_df = pd.read_csv('data.csv',low_memory=False)"
   ]
  },
  {
   "cell_type": "code",
   "execution_count": 10,
   "metadata": {},
   "outputs": [
    {
     "data": {
      "text/html": [
       "<div>\n",
       "<style scoped>\n",
       "    .dataframe tbody tr th:only-of-type {\n",
       "        vertical-align: middle;\n",
       "    }\n",
       "\n",
       "    .dataframe tbody tr th {\n",
       "        vertical-align: top;\n",
       "    }\n",
       "\n",
       "    .dataframe thead th {\n",
       "        text-align: right;\n",
       "    }\n",
       "</style>\n",
       "<table border=\"1\" class=\"dataframe\">\n",
       "  <thead>\n",
       "    <tr style=\"text-align: right;\">\n",
       "      <th></th>\n",
       "      <th>ecode</th>\n",
       "      <th>ename</th>\n",
       "    </tr>\n",
       "  </thead>\n",
       "  <tbody>\n",
       "    <tr>\n",
       "      <td>0</td>\n",
       "      <td>165</td>\n",
       "      <td>Harry Crouch</td>\n",
       "    </tr>\n",
       "    <tr>\n",
       "      <td>1</td>\n",
       "      <td>183</td>\n",
       "      <td>SIVANNA</td>\n",
       "    </tr>\n",
       "    <tr>\n",
       "      <td>2</td>\n",
       "      <td>190</td>\n",
       "      <td>JAYARAMAPPA</td>\n",
       "    </tr>\n",
       "    <tr>\n",
       "      <td>3</td>\n",
       "      <td>191</td>\n",
       "      <td>Sadiyah Mays</td>\n",
       "    </tr>\n",
       "    <tr>\n",
       "      <td>4</td>\n",
       "      <td>193</td>\n",
       "      <td>Macie Mccartney</td>\n",
       "    </tr>\n",
       "  </tbody>\n",
       "</table>\n",
       "</div>"
      ],
      "text/plain": [
       "  ecode            ename\n",
       "0   165     Harry Crouch\n",
       "1   183          SIVANNA\n",
       "2   190      JAYARAMAPPA\n",
       "3   191     Sadiyah Mays\n",
       "4   193  Macie Mccartney"
      ]
     },
     "execution_count": 10,
     "metadata": {},
     "output_type": "execute_result"
    }
   ],
   "source": [
    "employee_df.head()"
   ]
  },
  {
   "cell_type": "code",
   "execution_count": 3,
   "metadata": {},
   "outputs": [],
   "source": [
    "# Convert Date ccolumn from String Type to date Type\n",
    "data_df['date']= pd.to_datetime(data_df['date']) "
   ]
  },
  {
   "cell_type": "code",
   "execution_count": 4,
   "metadata": {},
   "outputs": [
    {
     "data": {
      "text/html": [
       "<div>\n",
       "<style scoped>\n",
       "    .dataframe tbody tr th:only-of-type {\n",
       "        vertical-align: middle;\n",
       "    }\n",
       "\n",
       "    .dataframe tbody tr th {\n",
       "        vertical-align: top;\n",
       "    }\n",
       "\n",
       "    .dataframe thead th {\n",
       "        text-align: right;\n",
       "    }\n",
       "</style>\n",
       "<table border=\"1\" class=\"dataframe\">\n",
       "  <thead>\n",
       "    <tr style=\"text-align: right;\">\n",
       "      <th></th>\n",
       "      <th>date</th>\n",
       "      <th>employee_code</th>\n",
       "      <th>efficiency</th>\n",
       "    </tr>\n",
       "  </thead>\n",
       "  <tbody>\n",
       "    <tr>\n",
       "      <td>0</td>\n",
       "      <td>2018-01-01</td>\n",
       "      <td>82</td>\n",
       "      <td>86.445231</td>\n",
       "    </tr>\n",
       "    <tr>\n",
       "      <td>1</td>\n",
       "      <td>2018-01-01</td>\n",
       "      <td>101</td>\n",
       "      <td>107.360738</td>\n",
       "    </tr>\n",
       "    <tr>\n",
       "      <td>2</td>\n",
       "      <td>2018-01-01</td>\n",
       "      <td>1055</td>\n",
       "      <td>97.888896</td>\n",
       "    </tr>\n",
       "    <tr>\n",
       "      <td>3</td>\n",
       "      <td>2018-01-01</td>\n",
       "      <td>161</td>\n",
       "      <td>109.089957</td>\n",
       "    </tr>\n",
       "    <tr>\n",
       "      <td>4</td>\n",
       "      <td>2018-01-01</td>\n",
       "      <td>82</td>\n",
       "      <td>84.095728</td>\n",
       "    </tr>\n",
       "  </tbody>\n",
       "</table>\n",
       "</div>"
      ],
      "text/plain": [
       "        date  employee_code  efficiency\n",
       "0 2018-01-01             82   86.445231\n",
       "1 2018-01-01            101  107.360738\n",
       "2 2018-01-01           1055   97.888896\n",
       "3 2018-01-01            161  109.089957\n",
       "4 2018-01-01             82   84.095728"
      ]
     },
     "execution_count": 4,
     "metadata": {},
     "output_type": "execute_result"
    }
   ],
   "source": [
    "data_df.head()"
   ]
  },
  {
   "cell_type": "code",
   "execution_count": 15,
   "metadata": {},
   "outputs": [
    {
     "data": {
      "text/plain": [
       "[82,\n",
       " 101,\n",
       " 1055,\n",
       " 161,\n",
       " 1062,\n",
       " 1083,\n",
       " 1066,\n",
       " 1071,\n",
       " 1054,\n",
       " 68,\n",
       " 104,\n",
       " 183,\n",
       " 86,\n",
       " 103,\n",
       " 182,\n",
       " 143,\n",
       " 105,\n",
       " 162,\n",
       " 1065,\n",
       " 145,\n",
       " 250,\n",
       " 245,\n",
       " 165,\n",
       " 240,\n",
       " 146,\n",
       " 230,\n",
       " 236]"
      ]
     },
     "execution_count": 15,
     "metadata": {},
     "output_type": "execute_result"
    }
   ],
   "source": [
    "# Get all Employee Codes from Employee Data\n",
    "empcodes= []\n",
    "empcodes.extend(list(data_df['employee_code'].unique()))\n",
    "empcodes"
   ]
  },
  {
   "cell_type": "code",
   "execution_count": 5,
   "metadata": {},
   "outputs": [],
   "source": [
    "# Map Employee Codes with Name\n",
    "name_dict = {}\n",
    "for index,row in employee_df.iterrows():\n",
    "    name_dict[row['ecode']] = row['ename']"
   ]
  },
  {
   "cell_type": "code",
   "execution_count": 18,
   "metadata": {},
   "outputs": [
    {
     "data": {
      "text/plain": [
       "{'165': 'Harry Crouch',\n",
       " '183': 'SIVANNA',\n",
       " '190': 'JAYARAMAPPA',\n",
       " '191': 'Sadiyah Mays',\n",
       " '193': 'Macie Mccartney',\n",
       " '194': 'Adelaide Brook',\n",
       " '195': 'Shanon Mendez',\n",
       " '196': 'Isaak Burnett',\n",
       " '197': 'Susie Ramsey',\n",
       " '207': 'Sara Donnelly',\n",
       " '200': 'Emmanuel Waller',\n",
       " '103': 'Elif Noble',\n",
       " '122': 'DANEEL',\n",
       " '201': 'RAMACHANDRAREDDY',\n",
       " '203': 'Farah Caldwell',\n",
       " '210': 'Ashraf Rawlings',\n",
       " '211': 'Youssef Quintana',\n",
       " '238': 'RAMANJINAPPA',\n",
       " '215': 'Benn Kearney',\n",
       " '218': 'Mekhi Douglas',\n",
       " '220': 'Irene Jeffery',\n",
       " '250': 'Nathaniel Barron',\n",
       " '143': 'Kobi Hogan',\n",
       " '145': 'Sidney Ho',\n",
       " '1071': 'Wiktoria Wilkerson',\n",
       " '161': 'NARASHIMAHAMULU',\n",
       " '182': 'Teodor Greene',\n",
       " '249': 'Guto Bowden',\n",
       " '244': 'Ivy-Rose Chang',\n",
       " '68': 'Sneha Carr',\n",
       " '1054': 'Laurel Steele',\n",
       " '202': 'Bianca Naylor',\n",
       " '230': 'Nakita Miranda',\n",
       " '228': 'GUPTA',\n",
       " '1083': 'Arwel Eastwood',\n",
       " '86': 'Shiv Odling',\n",
       " '82': 'Patricia Ali',\n",
       " '233': 'Mehmet Mccaffrey',\n",
       " '206': 'Safiyah Salt',\n",
       " '189': 'Carlton Gunn',\n",
       " '184': 'Macey Rowland',\n",
       " '1062': 'Bianca Porter',\n",
       " '162': 'Riccardo Burks',\n",
       " '104': 'Carlos Merritt',\n",
       " '105': 'Harry Gonzalez',\n",
       " '199': 'Guto Blackwell',\n",
       " '240': 'Brenna Begum',\n",
       " '1066': 'Jonah Cooper',\n",
       " '226': 'JAKIR HUSEN',\n",
       " '67': 'Faisal Mccartney',\n",
       " '1101': 'Henry Ford',\n",
       " '1084': 'Nida Potter',\n",
       " '1081': 'Kiaan Nicholls',\n",
       " '1078': 'GANGADHAR',\n",
       " '1065': 'Dahlia Graham',\n",
       " '1055': 'Atlanta Croft',\n",
       " '1061': 'Stewart Briggs',\n",
       " '1060': 'SANKAR REDDY',\n",
       " '247': 'CHANDRAPPA',\n",
       " '245': 'ABDUL HAFIZAN',\n",
       " '241': 'Ebonie Clarkson',\n",
       " '239': 'LAKSHINARAYANAREDDY',\n",
       " '236': 'Riaz Owen',\n",
       " '234': 'VENKATARAMIREDDY.M',\n",
       " '71': 'HANUMANTAHPPA.M',\n",
       " '87': 'Ayla Elliott',\n",
       " '121': 'THIMMA REDDY',\n",
       " '141': 'RAMMURTHY',\n",
       " '146': 'BAGHAVAN',\n",
       " 'X01': 'Vijay',\n",
       " '111': 'ram',\n",
       " '477': 'GREY',\n",
       " '555': 'ANIL',\n",
       " '222': 'karthic',\n",
       " '333': 'naveen',\n",
       " '431': 'Vishnu Vardhanreddy',\n",
       " '430': 'Adhi Narayanreddy',\n",
       " '429': 'Srikanth Reddy',\n",
       " '428': 'Eva-Rose Shah',\n",
       " '434': 'Manjunath',\n",
       " '435': 'Subramanyam',\n",
       " '418': 'Rama chandra',\n",
       " '4118': 'NAGAPPA',\n",
       " '868': 'NARASIMHAMURTHY',\n",
       " '1906': 'KRISTAPPA',\n",
       " '246': 'RAMAKRISHNAREDDY',\n",
       " '8210': 'NARAYANAPPA',\n",
       " '7356': 'PUSPALATHA',\n",
       " '1556': 'Clare Christie',\n",
       " '1580': 'Saffron York',\n",
       " '8113': 'RAJESH',\n",
       " '7638': 'AMALA',\n",
       " '7614': 'RAKSHITHA',\n",
       " '7621': 'HANUMAKKA',\n",
       " '7628': 'NIRMALA',\n",
       " '101': 'BEERAIAH'}"
      ]
     },
     "execution_count": 18,
     "metadata": {},
     "output_type": "execute_result"
    }
   ],
   "source": [
    "name_dict"
   ]
  },
  {
   "cell_type": "code",
   "execution_count": 23,
   "metadata": {},
   "outputs": [
    {
     "name": "stderr",
     "output_type": "stream",
     "text": [
      "100%|██████████████████████████████████████████████████████████████████████████████████████████| 12/12 [00:00<?, ?it/s]\n"
     ]
    }
   ],
   "source": [
    "# Do the MultiProcess\n",
    "import workers\n",
    "num_partitions = num_processes\n",
    "manager = Manager()\n",
    "d = manager.dict()\n",
    "df_split = np.array_split(data_df, num_partitions)\n",
    "pool = Pool(num_processes)\n",
    "shared_arg = repeat(d,num_partitions)\n",
    "for _ in tqdm.tqdm(pool.map(workers.process_rows, zip(shared_arg,df_split)), total=num_partitions):\n",
    "    pass\n",
    "pool.close()\n",
    "pool.join()"
   ]
  },
  {
   "cell_type": "code",
   "execution_count": 24,
   "metadata": {},
   "outputs": [],
   "source": [
    "# Geenrate Month Names\n",
    "import datetime\n",
    "months = []\n",
    "for i in range(1,13):\n",
    "    month = datetime.date(1900,i, 1).strftime('%B')\n",
    "    months.append(month)"
   ]
  },
  {
   "cell_type": "code",
   "execution_count": 20,
   "metadata": {},
   "outputs": [
    {
     "data": {
      "text/plain": [
       "['January',\n",
       " 'February',\n",
       " 'March',\n",
       " 'April',\n",
       " 'May',\n",
       " 'June',\n",
       " 'July',\n",
       " 'August',\n",
       " 'September',\n",
       " 'October',\n",
       " 'November',\n",
       " 'December']"
      ]
     },
     "execution_count": 20,
     "metadata": {},
     "output_type": "execute_result"
    }
   ],
   "source": [
    "months"
   ]
  },
  {
   "cell_type": "code",
   "execution_count": 25,
   "metadata": {},
   "outputs": [
    {
     "data": {
      "text/plain": [
       "'Employee-Efficiency.html'"
      ]
     },
     "execution_count": 25,
     "metadata": {},
     "output_type": "execute_result"
    }
   ],
   "source": [
    "# Plot Visualisation\n",
    "import chart_studio.plotly as py\n",
    "import plotly.graph_objs as go\n",
    "from plotly.offline import download_plotlyjs, init_notebook_mode, plot, iplot\n",
    "data = []\n",
    "for ecode in empcodes:\n",
    "    y_list = []\n",
    "    for i in range(1,13):\n",
    "        y_list.append(d[int(ecode),i])\n",
    "    data.append(go.Scatter(\n",
    "    x=months,\n",
    "    y=list(y_list),\n",
    "    name = name_dict[str(ecode)]\n",
    "    ))\n",
    "layout = go.Layout(\n",
    "    title='Employee Analysis',\n",
    "    xaxis=dict(title='Months in 2018',),\n",
    "    yaxis=dict(title='Average Production Efficieny per month',)\n",
    ")\n",
    "\n",
    "fig = go.Figure(data=data, layout=layout)\n",
    "plot(fig, filename='Employee-Efficiency.html')"
   ]
  }
 ],
 "metadata": {
  "kernelspec": {
   "display_name": "Python 3",
   "language": "python",
   "name": "python3"
  },
  "language_info": {
   "codemirror_mode": {
    "name": "ipython",
    "version": 3
   },
   "file_extension": ".py",
   "mimetype": "text/x-python",
   "name": "python",
   "nbconvert_exporter": "python",
   "pygments_lexer": "ipython3",
   "version": "3.6.9"
  }
 },
 "nbformat": 4,
 "nbformat_minor": 4
}
